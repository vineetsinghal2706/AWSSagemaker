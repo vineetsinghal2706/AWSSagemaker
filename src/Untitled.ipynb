{
 "cells": [
  {
   "cell_type": "code",
   "execution_count": 13,
   "id": "d416ec13-4a55-4416-bfa0-6ba7dc72a81d",
   "metadata": {
    "execution": {
     "iopub.execute_input": "2025-09-22T09:22:33.599397Z",
     "iopub.status.busy": "2025-09-22T09:22:33.599128Z",
     "iopub.status.idle": "2025-09-22T09:22:34.925631Z",
     "shell.execute_reply": "2025-09-22T09:22:34.924852Z",
     "shell.execute_reply.started": "2025-09-22T09:22:33.599377Z"
    }
   },
   "outputs": [
    {
     "name": "stdout",
     "output_type": "stream",
     "text": [
      "sagemaker.config INFO - Applied value from config key = SageMaker.PythonSDK.Modules.Session.DefaultS3Bucket\n",
      "sagemaker.config INFO - Applied value from config key = SageMaker.PythonSDK.Modules.Session.DefaultS3ObjectKeyPrefix\n",
      "sagemaker.config INFO - Applied value from config key = SageMaker.PythonSDK.Modules.Session.DefaultS3Bucket\n",
      "sagemaker.config INFO - Applied value from config key = SageMaker.PythonSDK.Modules.Session.DefaultS3ObjectKeyPrefix\n",
      "✅ Created experiment: fraud-detection-exp1\n"
     ]
    }
   ],
   "source": [
    "import sagemaker\n",
    "from smexperiments.experiment import Experiment\n",
    "\n",
    "sess = sagemaker.session.Session()\n",
    "region = sess.boto_region_name\n",
    "role = sagemaker.get_execution_role()\n",
    "\n",
    "experiment = Experiment.create(\n",
    "    experiment_name=\"fraud-detection-exp1\",\n",
    "    description=\"Experiment to track fraud detection model training\",\n",
    "    sagemaker_boto_client=sess.sagemaker_client\n",
    ")\n",
    "\n",
    "print(\"✅ Created experiment:\", experiment.experiment_name)\n"
   ]
  },
  {
   "cell_type": "code",
   "execution_count": 15,
   "id": "eb0f83ad-68ef-4048-8305-6921e1c966e0",
   "metadata": {
    "execution": {
     "iopub.execute_input": "2025-09-22T09:23:10.079870Z",
     "iopub.status.busy": "2025-09-22T09:23:10.079596Z",
     "iopub.status.idle": "2025-09-22T09:23:10.940491Z",
     "shell.execute_reply": "2025-09-22T09:23:10.939425Z",
     "shell.execute_reply.started": "2025-09-22T09:23:10.079850Z"
    }
   },
   "outputs": [
    {
     "name": "stdout",
     "output_type": "stream",
     "text": [
      "sagemaker.config INFO - Applied value from config key = SageMaker.PythonSDK.Modules.Session.DefaultS3Bucket\n",
      "sagemaker.config INFO - Applied value from config key = SageMaker.PythonSDK.Modules.Session.DefaultS3ObjectKeyPrefix\n"
     ]
    },
    {
     "data": {
      "text/html": [
       "<pre style=\"white-space:pre;overflow-x:auto;line-height:normal;font-family:Menlo,'DejaVu Sans Mono',consolas,'Courier New',monospace\"><span style=\"color: #ff0000; text-decoration-color: #ff0000\">╭─────────────────────────────── </span><span style=\"color: #ff0000; text-decoration-color: #ff0000; font-weight: bold\">Traceback </span><span style=\"color: #ff7f7f; text-decoration-color: #ff7f7f; font-weight: bold\">(most recent call last)</span><span style=\"color: #ff0000; text-decoration-color: #ff0000\"> ────────────────────────────────╮</span>\n",
       "<span style=\"color: #ff0000; text-decoration-color: #ff0000\">│</span> in <span style=\"color: #00ff00; text-decoration-color: #00ff00\">&lt;module&gt;</span>:<span style=\"color: #0000ff; text-decoration-color: #0000ff\">21</span>                                                                                   <span style=\"color: #ff0000; text-decoration-color: #ff0000\">│</span>\n",
       "<span style=\"color: #ff0000; text-decoration-color: #ff0000\">│</span>                                                                                                  <span style=\"color: #ff0000; text-decoration-color: #ff0000\">│</span>\n",
       "<span style=\"color: #ff0000; text-decoration-color: #ff0000\">│</span>   <span style=\"color: #7f7f7f; text-decoration-color: #7f7f7f\">18 </span>)                                                                                           <span style=\"color: #ff0000; text-decoration-color: #ff0000\">│</span>\n",
       "<span style=\"color: #ff0000; text-decoration-color: #ff0000\">│</span>   <span style=\"color: #7f7f7f; text-decoration-color: #7f7f7f\">19 </span>                                                                                            <span style=\"color: #ff0000; text-decoration-color: #ff0000\">│</span>\n",
       "<span style=\"color: #ff0000; text-decoration-color: #ff0000\">│</span>   <span style=\"color: #7f7f7f; text-decoration-color: #7f7f7f\">20 # Example: log metrics</span>                                                                      <span style=\"color: #ff0000; text-decoration-color: #ff0000\">│</span>\n",
       "<span style=\"color: #ff0000; text-decoration-color: #ff0000\">│</span> <span style=\"color: #800000; text-decoration-color: #800000\">❱ </span>21 <span style=\"font-weight: bold; text-decoration: underline\">trial_component.log_metric</span>(<span style=\"color: #808000; text-decoration-color: #808000\">\"accuracy\"</span>, metrics[<span style=\"color: #808000; text-decoration-color: #808000\">\"accuracy\"</span>])                                 <span style=\"color: #ff0000; text-decoration-color: #ff0000\">│</span>\n",
       "<span style=\"color: #ff0000; text-decoration-color: #ff0000\">│</span>   <span style=\"color: #7f7f7f; text-decoration-color: #7f7f7f\">22 </span>trial_component.log_metric(<span style=\"color: #808000; text-decoration-color: #808000\">\"precision\"</span>, metrics[<span style=\"color: #808000; text-decoration-color: #808000\">\"precision\"</span>])                               <span style=\"color: #ff0000; text-decoration-color: #ff0000\">│</span>\n",
       "<span style=\"color: #ff0000; text-decoration-color: #ff0000\">│</span>   <span style=\"color: #7f7f7f; text-decoration-color: #7f7f7f\">23 </span>trial_component.log_metric(<span style=\"color: #808000; text-decoration-color: #808000\">\"recall\"</span>, metrics[<span style=\"color: #808000; text-decoration-color: #808000\">\"recall\"</span>])                                     <span style=\"color: #ff0000; text-decoration-color: #ff0000\">│</span>\n",
       "<span style=\"color: #ff0000; text-decoration-color: #ff0000\">│</span>   <span style=\"color: #7f7f7f; text-decoration-color: #7f7f7f\">24 </span>trial_component.log_metric(<span style=\"color: #808000; text-decoration-color: #808000\">\"f1\"</span>, metrics[<span style=\"color: #808000; text-decoration-color: #808000\">\"f1\"</span>])                                             <span style=\"color: #ff0000; text-decoration-color: #ff0000\">│</span>\n",
       "<span style=\"color: #ff0000; text-decoration-color: #ff0000\">╰──────────────────────────────────────────────────────────────────────────────────────────────────╯</span>\n",
       "<span style=\"color: #ff0000; text-decoration-color: #ff0000; font-weight: bold\">AttributeError: </span><span style=\"color: #008700; text-decoration-color: #008700\">'TrialComponent'</span> object has no attribute <span style=\"color: #008700; text-decoration-color: #008700\">'log_metric'</span>\n",
       "</pre>\n"
      ],
      "text/plain": [
       "\u001b[38;2;255;0;0m╭─\u001b[0m\u001b[38;2;255;0;0m──────────────────────────────\u001b[0m\u001b[38;2;255;0;0m \u001b[0m\u001b[1;38;2;255;0;0mTraceback \u001b[0m\u001b[1;2;38;2;255;0;0m(most recent call last)\u001b[0m\u001b[38;2;255;0;0m \u001b[0m\u001b[38;2;255;0;0m───────────────────────────────\u001b[0m\u001b[38;2;255;0;0m─╮\u001b[0m\n",
       "\u001b[38;2;255;0;0m│\u001b[0m in \u001b[92m<module>\u001b[0m:\u001b[94m21\u001b[0m                                                                                   \u001b[38;2;255;0;0m│\u001b[0m\n",
       "\u001b[38;2;255;0;0m│\u001b[0m                                                                                                  \u001b[38;2;255;0;0m│\u001b[0m\n",
       "\u001b[38;2;255;0;0m│\u001b[0m   \u001b[2m18 \u001b[0m)                                                                                           \u001b[38;2;255;0;0m│\u001b[0m\n",
       "\u001b[38;2;255;0;0m│\u001b[0m   \u001b[2m19 \u001b[0m                                                                                            \u001b[38;2;255;0;0m│\u001b[0m\n",
       "\u001b[38;2;255;0;0m│\u001b[0m   \u001b[2m20 \u001b[0m\u001b[2m# Example: log metrics\u001b[0m                                                                      \u001b[38;2;255;0;0m│\u001b[0m\n",
       "\u001b[38;2;255;0;0m│\u001b[0m \u001b[31m❱ \u001b[0m21 \u001b[1;4mtrial_component.log_metric\u001b[0m(\u001b[33m\"\u001b[0m\u001b[33maccuracy\u001b[0m\u001b[33m\"\u001b[0m, metrics[\u001b[33m\"\u001b[0m\u001b[33maccuracy\u001b[0m\u001b[33m\"\u001b[0m])                                 \u001b[38;2;255;0;0m│\u001b[0m\n",
       "\u001b[38;2;255;0;0m│\u001b[0m   \u001b[2m22 \u001b[0mtrial_component.log_metric(\u001b[33m\"\u001b[0m\u001b[33mprecision\u001b[0m\u001b[33m\"\u001b[0m, metrics[\u001b[33m\"\u001b[0m\u001b[33mprecision\u001b[0m\u001b[33m\"\u001b[0m])                               \u001b[38;2;255;0;0m│\u001b[0m\n",
       "\u001b[38;2;255;0;0m│\u001b[0m   \u001b[2m23 \u001b[0mtrial_component.log_metric(\u001b[33m\"\u001b[0m\u001b[33mrecall\u001b[0m\u001b[33m\"\u001b[0m, metrics[\u001b[33m\"\u001b[0m\u001b[33mrecall\u001b[0m\u001b[33m\"\u001b[0m])                                     \u001b[38;2;255;0;0m│\u001b[0m\n",
       "\u001b[38;2;255;0;0m│\u001b[0m   \u001b[2m24 \u001b[0mtrial_component.log_metric(\u001b[33m\"\u001b[0m\u001b[33mf1\u001b[0m\u001b[33m\"\u001b[0m, metrics[\u001b[33m\"\u001b[0m\u001b[33mf1\u001b[0m\u001b[33m\"\u001b[0m])                                             \u001b[38;2;255;0;0m│\u001b[0m\n",
       "\u001b[38;2;255;0;0m╰──────────────────────────────────────────────────────────────────────────────────────────────────╯\u001b[0m\n",
       "\u001b[1;91mAttributeError: \u001b[0m\u001b[38;2;0;135;0m'TrialComponent'\u001b[0m object has no attribute \u001b[38;2;0;135;0m'log_metric'\u001b[0m\n"
      ]
     },
     "metadata": {},
     "output_type": "display_data"
    }
   ],
   "source": [
    "from smexperiments.trial import Trial\n",
    "from smexperiments.trial_component import TrialComponent\n",
    "import sagemaker\n",
    "import boto3\n",
    "\n",
    "sess = sagemaker.session.Session()\n",
    "\n",
    "# Create a Trial\n",
    "trial = Trial.create(\n",
    "    trial_name=\"fraud-detection-trial1\",\n",
    "    experiment_name=\"fraud-detection-exp1\",\n",
    "    sagemaker_boto_client=sess.sagemaker_client\n",
    ")\n",
    "\n",
    "# Start a Trial Component (like an MLflow run)\n",
    "trial_component = TrialComponent.create(\n",
    "    trial_component_name=\"fraud-detection-training1\"\n",
    ")\n",
    "\n",
    "# Example: log metrics\n",
    "trial_component.log_metric(\"accuracy\", metrics[\"accuracy\"])\n",
    "trial_component.log_metric(\"precision\", metrics[\"precision\"])\n",
    "trial_component.log_metric(\"recall\", metrics[\"recall\"])\n",
    "trial_component.log_metric(\"f1\", metrics[\"f1\"])\n",
    "trial_component.log_metric(\"mcc\", metrics[\"mcc\"])\n",
    "\n",
    "trial.add_trial_component(trial_component)\n",
    "\n",
    "print(\"✅ Metrics logged to SageMaker Experiments\")\n"
   ]
  },
  {
   "cell_type": "code",
   "execution_count": null,
   "id": "dcbbb43b-80ec-4053-aef5-cd1e72fd1eb6",
   "metadata": {},
   "outputs": [],
   "source": []
  }
 ],
 "metadata": {
  "kernelspec": {
   "display_name": "Python 3 (ipykernel)",
   "language": "python",
   "name": "python3"
  },
  "language_info": {
   "codemirror_mode": {
    "name": "ipython",
    "version": 3
   },
   "file_extension": ".py",
   "mimetype": "text/x-python",
   "name": "python",
   "nbconvert_exporter": "python",
   "pygments_lexer": "ipython3",
   "version": "3.11.11"
  }
 },
 "nbformat": 4,
 "nbformat_minor": 5
}
